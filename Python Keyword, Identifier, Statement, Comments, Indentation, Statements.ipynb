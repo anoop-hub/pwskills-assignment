{
 "cells": [
  {
   "cell_type": "markdown",
   "metadata": {},
   "source": [
    "Explain the significance of Python keywords and provide examples of five keywords"
   ]
  },
  {
   "cell_type": "code",
   "execution_count": 1,
   "metadata": {},
   "outputs": [
    {
     "ename": "NameError",
     "evalue": "name 'Myclass' is not defined",
     "output_type": "error",
     "traceback": [
      "\u001b[1;31m---------------------------------------------------------------------------\u001b[0m",
      "\u001b[1;31mNameError\u001b[0m                                 Traceback (most recent call last)",
      "Cell \u001b[1;32mIn[1], line 6\u001b[0m\n\u001b[0;32m      2\u001b[0m     name \u001b[38;5;241m=\u001b[39m \u001b[38;5;124m\"\u001b[39m\u001b[38;5;124mJohn\u001b[39m\u001b[38;5;124m\"\u001b[39m\n\u001b[0;32m      4\u001b[0m \u001b[38;5;28;01mdel\u001b[39;00m Myclass\n\u001b[1;32m----> 6\u001b[0m \u001b[38;5;28mprint\u001b[39m(\u001b[43mMyclass\u001b[49m)    \n",
      "\u001b[1;31mNameError\u001b[0m: name 'Myclass' is not defined"
     ]
    }
   ],
   "source": [
    "#1 del\n",
    "class Myclass:\n",
    "    name = \"John\"\n",
    "    \n",
    "del Myclass\n",
    "\n",
    "print(Myclass)    "
   ]
  },
  {
   "cell_type": "code",
   "execution_count": 3,
   "metadata": {},
   "outputs": [],
   "source": [
    "#2 assert\n",
    "\n",
    "greet = \"Hello\"\n",
    "\n",
    "assert greet == \"Hello\"\n",
    "\n",
    " "
   ]
  },
  {
   "cell_type": "code",
   "execution_count": 5,
   "metadata": {},
   "outputs": [
    {
     "name": "stdout",
     "output_type": "stream",
     "text": [
      "0\n",
      "1\n",
      "2\n",
      "3\n",
      "4\n",
      "5\n",
      "6\n",
      "7\n",
      "8\n",
      "9\n"
     ]
    }
   ],
   "source": [
    "for i  in list(range(0,10)):\n",
    "    print(i)"
   ]
  },
  {
   "cell_type": "code",
   "execution_count": 7,
   "metadata": {},
   "outputs": [
    {
     "name": "stdout",
     "output_type": "stream",
     "text": [
      "supra\n",
      "supra\n"
     ]
    }
   ],
   "source": [
    "#3 global\n",
    "def func():\n",
    "    global x \n",
    "    x = \"supra\"\n",
    "    print(x)\n",
    "    \n",
    "func()\n",
    "\n",
    "print(x)     #here x will be given as output as x is global\n",
    "\n",
    "    \n",
    "    "
   ]
  },
  {
   "cell_type": "code",
   "execution_count": 9,
   "metadata": {},
   "outputs": [
    {
     "name": "stdout",
     "output_type": "stream",
     "text": [
      "15\n"
     ]
    }
   ],
   "source": [
    "#4 lambda\n",
    "\n",
    "x = lambda a:a+10\n",
    "\n",
    "\n",
    "print(x(5))"
   ]
  },
  {
   "cell_type": "code",
   "execution_count": 11,
   "metadata": {},
   "outputs": [
    {
     "ename": "Exception",
     "evalue": "Sorry, no numbers below zero",
     "output_type": "error",
     "traceback": [
      "\u001b[1;31m---------------------------------------------------------------------------\u001b[0m",
      "\u001b[1;31mException\u001b[0m                                 Traceback (most recent call last)",
      "Cell \u001b[1;32mIn[11], line 4\u001b[0m\n\u001b[0;32m      1\u001b[0m x \u001b[38;5;241m=\u001b[39m \u001b[38;5;241m-\u001b[39m\u001b[38;5;241m1\u001b[39m\n\u001b[0;32m      3\u001b[0m \u001b[38;5;28;01mif\u001b[39;00m x \u001b[38;5;241m<\u001b[39m \u001b[38;5;241m0\u001b[39m:\n\u001b[1;32m----> 4\u001b[0m     \u001b[38;5;28;01mraise\u001b[39;00m \u001b[38;5;167;01mException\u001b[39;00m(\u001b[38;5;124m\"\u001b[39m\u001b[38;5;124mSorry, no numbers below zero\u001b[39m\u001b[38;5;124m\"\u001b[39m)\n",
      "\u001b[1;31mException\u001b[0m: Sorry, no numbers below zero"
     ]
    }
   ],
   "source": [
    "#5 raise\n",
    "x = -1\n",
    "\n",
    "if x < 0:\n",
    "    raise Exception(\"Sorry, no numbers below zero\")"
   ]
  },
  {
   "cell_type": "code",
   "execution_count": 13,
   "metadata": {},
   "outputs": [
    {
     "name": "stdout",
     "output_type": "stream",
     "text": [
      "Hello\n",
      "51\n",
      "Good Bye\n"
     ]
    }
   ],
   "source": [
    "#6 yield\n",
    "\n",
    "def func():\n",
    "    yield \"Hello\"\n",
    "    yield 51\n",
    "    yield \"Good Bye\"\n",
    "\n",
    "x = func()\n",
    "\n",
    "for z in x:\n",
    "    print(z)"
   ]
  },
  {
   "cell_type": "markdown",
   "metadata": {},
   "source": [
    "Descri0e the rules for defining identifiers in Python and provide an example"
   ]
  },
  {
   "cell_type": "markdown",
   "metadata": {},
   "source": [
    "Key words cannot be used for defining a variable or cant be used a identifier\n",
    "\n",
    "Name of indetifier cannnot begin with a number\n",
    "\n",
    "All identifier in python should have different names in same scope\n",
    "\n",
    "Name of identifier are case sensetive\n",
    "\n",
    "length is un restricted\n",
    "\n",
    "special character are not allowed as identifier\n",
    "\n",
    "identifier can start with an underscore"
   ]
  },
  {
   "cell_type": "markdown",
   "metadata": {},
   "source": [
    "What are comments in Python, and why are they useful6 Provide an example"
   ]
  },
  {
   "cell_type": "code",
   "execution_count": null,
   "metadata": {},
   "outputs": [],
   "source": [
    "#Multi line comment\n",
    "'''\n",
    "Comments play an important role in python as to highlight the significance of a particular code without disturbing the code itself\n",
    "\n",
    "We can write as many comments in the code as we want without disturbing the code itself \n",
    "\n",
    "Example - \n",
    "\n",
    "'''\n",
    "\n",
    "for i in range(1,10):\n",
    "#single line comment    \n",
    "#here this code is using a for loop to print values ranging from 1-10\n",
    "    print(i)\n",
    "\n",
    "    "
   ]
  },
  {
   "cell_type": "markdown",
   "metadata": {},
   "source": [
    "Why is proper indentation important in Python"
   ]
  },
  {
   "cell_type": "markdown",
   "metadata": {},
   "source": [
    "Indentation is necessary in python for code readability, for execution and a lot more \n",
    "Without proper indentation the code will not work \n",
    "\n",
    "Indentation also helps compiler to understand what line falls under what segment of code like nested for loop \n",
    "\n",
    "If we keep two for one below another then they wont be treated as nested in python where as if we keep one as it is and second one with a tapspace ahead then it will be traeted a nested !\n",
    "\n",
    "So proper indentation is necessary for implementation\n"
   ]
  },
  {
   "cell_type": "markdown",
   "metadata": {},
   "source": [
    "What happens if indentation is incorrect in Python6"
   ]
  },
  {
   "cell_type": "markdown",
   "metadata": {},
   "source": [
    "When indentation is incorrect in python either code throws error or in other case a wrong output is recieved"
   ]
  },
  {
   "cell_type": "markdown",
   "metadata": {},
   "source": [
    "Differentiate 0etween expression and statement in Python with examples"
   ]
  },
  {
   "cell_type": "markdown",
   "metadata": {},
   "source": [
    "Statements\n",
    "A statement in Python is a complete unit of execution that performs an action maybe like creating a variable or iteraation .\n",
    "\n",
    "Expressions\n",
    "An expression in Python is a piece of code that evaluates to a value."
   ]
  },
  {
   "cell_type": "code",
   "execution_count": null,
   "metadata": {},
   "outputs": [],
   "source": []
  }
 ],
 "metadata": {
  "kernelspec": {
   "display_name": "Python 3",
   "language": "python",
   "name": "python3"
  },
  "language_info": {
   "codemirror_mode": {
    "name": "ipython",
    "version": 3
   },
   "file_extension": ".py",
   "mimetype": "text/x-python",
   "name": "python",
   "nbconvert_exporter": "python",
   "pygments_lexer": "ipython3",
   "version": "3.12.2"
  }
 },
 "nbformat": 4,
 "nbformat_minor": 2
}

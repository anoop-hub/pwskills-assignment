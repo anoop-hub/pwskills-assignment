{
 "cells": [
  {
   "cell_type": "markdown",
   "metadata": {},
   "source": [
    "Print nmber from 1 to 5 ing a while loop."
   ]
  },
  {
   "cell_type": "code",
   "execution_count": 3,
   "metadata": {},
   "outputs": [
    {
     "name": "stdout",
     "output_type": "stream",
     "text": [
      "1\n",
      "2\n",
      "3\n",
      "4\n",
      "5\n"
     ]
    }
   ],
   "source": [
    "i = 1\n",
    "while i<6:\n",
    "    print(i)\n",
    "    i = i + 1"
   ]
  },
  {
   "cell_type": "markdown",
   "metadata": {},
   "source": [
    "Calclate the sum of nmber from 1 to 10 ing a while loop."
   ]
  },
  {
   "cell_type": "code",
   "execution_count": 4,
   "metadata": {},
   "outputs": [
    {
     "name": "stdout",
     "output_type": "stream",
     "text": [
      "55\n"
     ]
    }
   ],
   "source": [
    "i = 1\n",
    "sum = 0\n",
    "while i <11:\n",
    "    sum+=i\n",
    "    i+=1\n",
    "print(sum)    "
   ]
  },
  {
   "cell_type": "markdown",
   "metadata": {},
   "source": [
    "Calclate the factorial of a number using a for loop."
   ]
  },
  {
   "cell_type": "code",
   "execution_count": 5,
   "metadata": {},
   "outputs": [
    {
     "name": "stdout",
     "output_type": "stream",
     "text": [
      "6\n"
     ]
    }
   ],
   "source": [
    "x = int(input(\"Enter the number you want the factorial of\"))\n",
    "\n",
    "i=1\n",
    "fact = 1\n",
    "while i<x+1:\n",
    "    fact = fact*i\n",
    "    i+=1\n",
    "\n",
    "print(fact)    "
   ]
  },
  {
   "cell_type": "markdown",
   "metadata": {},
   "source": [
    "Cont the nmber of vowel in a tring ing a for loop."
   ]
  },
  {
   "cell_type": "code",
   "execution_count": 6,
   "metadata": {},
   "outputs": [
    {
     "name": "stdout",
     "output_type": "stream",
     "text": [
      "9\n"
     ]
    }
   ],
   "source": [
    "cnt = 0\n",
    "strx = \"My name is anthony gon service\"\n",
    "listx = ['a','e','i','o','u','A','E','I','O','U']\n",
    "for i in strx:\n",
    "    if(i in listx):\n",
    "        cnt+=1\n",
    "\n",
    "print(cnt)        \n",
    "    "
   ]
  },
  {
   "cell_type": "markdown",
   "metadata": {},
   "source": [
    "Print a pattern ing nested loop."
   ]
  },
  {
   "cell_type": "code",
   "execution_count": 13,
   "metadata": {},
   "outputs": [
    {
     "name": "stdout",
     "output_type": "stream",
     "text": [
      "*\n",
      "**\n",
      "***\n",
      "****\n",
      "*****\n"
     ]
    }
   ],
   "source": [
    "row  = 5\n",
    "for i in range(row):\n",
    "    col = 0\n",
    "    while(col<=i):\n",
    "        print(\"*\",end=\"\")\n",
    "        col= col+1\n",
    "    print()\n",
    "         "
   ]
  },
  {
   "cell_type": "markdown",
   "metadata": {},
   "source": [
    "Generate a mltiplication table ing neted loop."
   ]
  },
  {
   "cell_type": "code",
   "execution_count": 15,
   "metadata": {},
   "outputs": [
    {
     "name": "stdout",
     "output_type": "stream",
     "text": [
      "11 X 1 = 11\n",
      "\n",
      "11 X 2 = 22\n",
      "\n",
      "11 X 3 = 33\n",
      "\n",
      "11 X 4 = 44\n",
      "\n",
      "11 X 5 = 55\n",
      "\n",
      "11 X 6 = 66\n",
      "\n",
      "11 X 7 = 77\n",
      "\n",
      "11 X 8 = 88\n",
      "\n",
      "11 X 9 = 99\n",
      "\n",
      "11 X 10 = 110\n",
      "\n",
      "Multiplication table of 11 is given above\n"
     ]
    }
   ],
   "source": [
    "number = int(input(\"Enter the value u want a multiplication of\"))\n",
    "i = 1\n",
    "while i<11:    \n",
    "    print(number,\"X\",i,\"=\",i*number)\n",
    "    print()\n",
    "    i+=1\n",
    "print(\"Multiplication table of\",number,\"is given above\")        \n"
   ]
  }
 ],
 "metadata": {
  "kernelspec": {
   "display_name": "Python 3",
   "language": "python",
   "name": "python3"
  },
  "language_info": {
   "codemirror_mode": {
    "name": "ipython",
    "version": 3
   },
   "file_extension": ".py",
   "mimetype": "text/x-python",
   "name": "python",
   "nbconvert_exporter": "python",
   "pygments_lexer": "ipython3",
   "version": "3.12.2"
  }
 },
 "nbformat": 4,
 "nbformat_minor": 2
}

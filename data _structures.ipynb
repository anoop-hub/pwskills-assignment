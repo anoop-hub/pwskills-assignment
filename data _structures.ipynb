{
 "cells": [
  {
   "cell_type": "markdown",
   "metadata": {},
   "source": [
    "Why might you choose a deque from the collections module to implement a queue instead of using a \n",
    "\n",
    " regular Python list?"
   ]
  },
  {
   "cell_type": "markdown",
   "metadata": {},
   "source": [
    "There are several reasons to prefer a deque over a normal list for implementing a queue\n",
    "\n",
    "It allows to push and pop element from both side and has inbuilt functions to provide or facilitate or act like queue ie popleft, appendleft\n",
    "\n",
    "On the other hand list does not allow addition from both side, if we implement using list then we will, have to write several addtional fuiction for implementing queue using it\n",
    "\n",
    "\n",
    "implementing usign list is less optimized as deleting element or popping from front is o(n)\n",
    "where as in case of dequeu its o(1).\n",
    "\n",
    "when we delete an element from list implemented queue(front side) then there is excess waste  of space as that memory is unoccupied but its not the case in deque as both side operation allowed"
   ]
  },
  {
   "cell_type": "markdown",
   "metadata": {},
   "source": [
    "Can you explain a real-world scenario where using a stack would be a more practical choice than a list for \n",
    "\n",
    " data storage and retrieval?"
   ]
  },
  {
   "cell_type": "markdown",
   "metadata": {},
   "source": [
    "Imagine you're working in a text editor, such as Microsoft Word or Google Docs. As you type, delete, or modify text, you want the ability to undo your last actions. This is a perfect use case for a stack.\n",
    "\n",
    "\n",
    "LIFO Order: The stack's LIFO order ensures that the most recent action is always the first to be undone, which is exactly how undo functionality should work.\n",
    "\n",
    "Efficiency: Both push and pop operations on a stack are O(1), making the undo and redo operations very efficient.\n",
    "\n",
    "Simplicity: The stack structure aligns perfectly with the concept of undoing the most recent actions first, simplifying the implementation of such features."
   ]
  },
  {
   "cell_type": "markdown",
   "metadata": {},
   "source": [
    "What is the primary advantage of using sets in Python, and in what type of problem-solving scenarios are \n",
    "\n",
    " they most useful?"
   ]
  },
  {
   "cell_type": "code",
   "execution_count": null,
   "metadata": {
    "vscode": {
     "languageId": "plaintext"
    }
   },
   "outputs": [],
   "source": [
    "Remove duplicates - tc o(1)\n",
    "checking an element -tc o(1)\n",
    "set operations - allow to perform union, difference and intersection"
   ]
  },
  {
   "cell_type": "markdown",
   "metadata": {},
   "source": [
    " When might you choose to use an array instead of a list for storing numerical data in Python? What \n",
    "\n",
    " benefits do arrays offer in this context?"
   ]
  },
  {
   "cell_type": "markdown",
   "metadata": {},
   "source": [
    "When to Use Arrays Instead of Lists\n",
    "\n",
    "Big Data: Arrays save space.\n",
    "Speed: Arrays are faster for numbers.\n",
    "One Type: Arrays keep all data the same type.\n",
    "\n",
    "Benefits of Arrays\n",
    "\n",
    "Less Memory: Arrays are compact.\n",
    "Fast Access: Arrays are quicker for math.\n",
    "Consistent Types: Arrays avoid mixed types.\n",
    "Cool Math Tricks: Libraries like NumPy make arrays powerful for calculations."
   ]
  },
  {
   "cell_type": "markdown",
   "metadata": {},
   "source": [
    "In Python, what's the primary difference between dictionaries and lists, and how does this difference \n",
    "\n",
    " impact their use cases in programming?"
   ]
  },
  {
   "cell_type": "markdown",
   "metadata": {},
   "source": [
    "Dictionaries: Store key-value pairs. Each element is accessed using a unique key.\n",
    "\n",
    "Lists: Store elements in a sequential order. Each element is accessed using an index.\n",
    "\n",
    "\n",
    "Dictionaries: Best for key-value pairs, quick lookups by key, and situations where order is not crucial.\n",
    "\n",
    "Lists: Best for ordered collections, quick access by position, and when duplicates are acceptable."
   ]
  }
 ],
 "metadata": {
  "language_info": {
   "name": "python"
  }
 },
 "nbformat": 4,
 "nbformat_minor": 2
}
